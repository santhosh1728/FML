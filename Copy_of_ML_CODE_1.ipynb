{
  "nbformat": 4,
  "nbformat_minor": 0,
  "metadata": {
    "colab": {
      "provenance": [],
      "include_colab_link": true
    },
    "kernelspec": {
      "name": "python3",
      "display_name": "Python 3"
    },
    "language_info": {
      "name": "python"
    }
  },
  "cells": [
    {
      "cell_type": "markdown",
      "metadata": {
        "id": "view-in-github",
        "colab_type": "text"
      },
      "source": [
        "<a href=\"https://colab.research.google.com/github/santhosh1728/FML/blob/main/Copy_of_ML_CODE_1.ipynb\" target=\"_parent\"><img src=\"https://colab.research.google.com/assets/colab-badge.svg\" alt=\"Open In Colab\"/></a>"
      ]
    },
    {
      "cell_type": "code",
      "source": [
        "import pandas as pd\n",
        "import numpy as np\n",
        "df=pd.DataFrame([[1.0,2.0,3.0,4.0],[12.2,2.3,4.3,2.3],[np.NaN,3,4,2]])\n",
        "df.columns=['A','B','C','D']\n",
        "print(df)\n",
        "print(df.isnull().sum())"
      ],
      "metadata": {
        "colab": {
          "base_uri": "https://localhost:8080/"
        },
        "id": "V9zR67c-ZUjp",
        "outputId": "1e417c3c-7653-4632-aefe-2a0c5810a13a"
      },
      "execution_count": 9,
      "outputs": [
        {
          "output_type": "stream",
          "name": "stdout",
          "text": [
            "      A    B    C    D\n",
            "0   1.0  2.0  3.0  4.0\n",
            "1  12.2  2.3  4.3  2.3\n",
            "2   NaN  3.0  4.0  2.0\n",
            "A    1\n",
            "B    0\n",
            "C    0\n",
            "D    0\n",
            "dtype: int64\n"
          ]
        }
      ]
    },
    {
      "cell_type": "code",
      "source": [
        "df=pd.DataFrame([[1.0,2.0,3.0,4.0],[12.2,2.3,4.3,2.3],[np.NaN,3,4,np.NaN]])\n",
        "df.columns=['A','B','C','D']\n",
        "print(df)\n",
        "print(df.isnull().sum())"
      ],
      "metadata": {
        "colab": {
          "base_uri": "https://localhost:8080/"
        },
        "id": "l_gPL6KpaGV1",
        "outputId": "4e5b9f33-aaef-478a-8e45-f886036cd66b"
      },
      "execution_count": 10,
      "outputs": [
        {
          "output_type": "stream",
          "name": "stdout",
          "text": [
            "      A    B    C    D\n",
            "0   1.0  2.0  3.0  4.0\n",
            "1  12.2  2.3  4.3  2.3\n",
            "2   NaN  3.0  4.0  NaN\n",
            "A    1\n",
            "B    0\n",
            "C    0\n",
            "D    1\n",
            "dtype: int64\n"
          ]
        }
      ]
    },
    {
      "cell_type": "code",
      "source": [
        "df_1=df.dropna(axis=0)\n",
        "print(df_1)\n",
        "df_2=df.dropna(axis=1)\n",
        "print(df_2)"
      ],
      "metadata": {
        "colab": {
          "base_uri": "https://localhost:8080/"
        },
        "id": "UL_CxxMTaZP2",
        "outputId": "0f896c2e-6c97-4c8a-9ca1-8596e8213df4"
      },
      "execution_count": 11,
      "outputs": [
        {
          "output_type": "stream",
          "name": "stdout",
          "text": [
            "      A    B    C    D\n",
            "0   1.0  2.0  3.0  4.0\n",
            "1  12.2  2.3  4.3  2.3\n",
            "     B    C\n",
            "0  2.0  3.0\n",
            "1  2.3  4.3\n",
            "2  3.0  4.0\n"
          ]
        }
      ]
    },
    {
      "cell_type": "code",
      "source": [
        "df_3=df.dropna(how='all')\n",
        "print(df_3)\n",
        "df_4=df.dropna(subset=['C'])\n",
        "print(df_4)"
      ],
      "metadata": {
        "colab": {
          "base_uri": "https://localhost:8080/"
        },
        "id": "nrLdnLv6ahEe",
        "outputId": "5cb1a4b5-2904-4027-8fce-196d0792538e"
      },
      "execution_count": 12,
      "outputs": [
        {
          "output_type": "stream",
          "name": "stdout",
          "text": [
            "      A    B    C    D\n",
            "0   1.0  2.0  3.0  4.0\n",
            "1  12.2  2.3  4.3  2.3\n",
            "2   NaN  3.0  4.0  NaN\n",
            "      A    B    C    D\n",
            "0   1.0  2.0  3.0  4.0\n",
            "1  12.2  2.3  4.3  2.3\n",
            "2   NaN  3.0  4.0  NaN\n"
          ]
        }
      ]
    },
    {
      "cell_type": "code",
      "source": [
        "from sklearn.impute import SimpleImputer\n",
        "imputer=SimpleImputer(missing_values=np.nan,strategy='mean')\n",
        "imputed_data=imputer.fit_transform(df.values)\n",
        "print(imputed_data)"
      ],
      "metadata": {
        "colab": {
          "base_uri": "https://localhost:8080/"
        },
        "id": "lkshpk-Vas9j",
        "outputId": "ff478cd1-5676-48e6-dbd6-ee34b60714a7"
      },
      "execution_count": 13,
      "outputs": [
        {
          "output_type": "stream",
          "name": "stdout",
          "text": [
            "[[ 1.    2.    3.    4.  ]\n",
            " [12.2   2.3   4.3   2.3 ]\n",
            " [ 6.6   3.    4.    3.15]]\n"
          ]
        }
      ]
    },
    {
      "cell_type": "code",
      "source": [
        "imputer=SimpleImputer(missing_values=np.nan,strategy='mean')\n",
        "imputed_data=imputer.fit_transform(df.values)\n",
        "print(imputed_data)"
      ],
      "metadata": {
        "colab": {
          "base_uri": "https://localhost:8080/"
        },
        "id": "giiYmPxYbKmI",
        "outputId": "7cf659a3-8620-4dbb-eab7-9c3d6add7773"
      },
      "execution_count": 14,
      "outputs": [
        {
          "output_type": "stream",
          "name": "stdout",
          "text": [
            "[[ 1.    2.    3.    4.  ]\n",
            " [12.2   2.3   4.3   2.3 ]\n",
            " [ 6.6   3.    4.    3.15]]\n"
          ]
        }
      ]
    },
    {
      "cell_type": "code",
      "source": [
        "imputer=SimpleImputer(missing_values=np.nan,strategy='median')\n",
        "imputed_data=imputer.fit_transform(df.values)\n",
        "print(imputed_data)"
      ],
      "metadata": {
        "colab": {
          "base_uri": "https://localhost:8080/"
        },
        "id": "reGcvhN1bWqs",
        "outputId": "8514dd24-430f-4499-ab82-f1b135ae6d26"
      },
      "execution_count": 15,
      "outputs": [
        {
          "output_type": "stream",
          "name": "stdout",
          "text": [
            "[[ 1.    2.    3.    4.  ]\n",
            " [12.2   2.3   4.3   2.3 ]\n",
            " [ 6.6   3.    4.    3.15]]\n"
          ]
        }
      ]
    },
    {
      "cell_type": "code",
      "source": [
        "imputer=SimpleImputer(missing_values=np.nan,strategy='most_frequent')\n",
        "imputed_data=imputer.fit_transform(df.values)\n",
        "print(imputed_data)"
      ],
      "metadata": {
        "colab": {
          "base_uri": "https://localhost:8080/"
        },
        "id": "Anqmzs73bdGl",
        "outputId": "8cf6a82e-4de1-48d8-c19b-5a11e358871e"
      },
      "execution_count": 16,
      "outputs": [
        {
          "output_type": "stream",
          "name": "stdout",
          "text": [
            "[[ 1.   2.   3.   4. ]\n",
            " [12.2  2.3  4.3  2.3]\n",
            " [ 1.   3.   4.   2.3]]\n"
          ]
        }
      ]
    },
    {
      "cell_type": "code",
      "source": [],
      "metadata": {
        "id": "it7bBsYiboON"
      },
      "execution_count": 16,
      "outputs": []
    }
  ]
}