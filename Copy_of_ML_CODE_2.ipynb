{
  "nbformat": 4,
  "nbformat_minor": 0,
  "metadata": {
    "colab": {
      "provenance": [],
      "include_colab_link": true
    },
    "kernelspec": {
      "name": "python3",
      "display_name": "Python 3"
    },
    "language_info": {
      "name": "python"
    }
  },
  "cells": [
    {
      "cell_type": "markdown",
      "metadata": {
        "id": "view-in-github",
        "colab_type": "text"
      },
      "source": [
        "<a href=\"https://colab.research.google.com/github/santhosh1728/FML/blob/main/Copy_of_ML_CODE_2.ipynb\" target=\"_parent\"><img src=\"https://colab.research.google.com/assets/colab-badge.svg\" alt=\"Open In Colab\"/></a>"
      ]
    },
    {
      "cell_type": "code",
      "execution_count": 9,
      "metadata": {
        "colab": {
          "base_uri": "https://localhost:8080/"
        },
        "id": "NXiX--sOcE-a",
        "outputId": "7d4b2db1-dee6-4de2-acc1-adf98b2cc451"
      },
      "outputs": [
        {
          "output_type": "stream",
          "name": "stdout",
          "text": [
            "  colors size  price classlabel\n",
            "0  green    M   10.1     class1\n",
            "1    red    L   13.5     class2\n",
            "2   blue   XL   15.3     class1\n"
          ]
        }
      ],
      "source": [
        "import pandas as pd\n",
        "import numpy as np\n",
        "\n",
        "df=pd.DataFrame([['green','M',10.1,'class1'],['red','L',13.5,'class2'],['blue','XL',15.3,'class1']])\n",
        "df.columns=['colors','size','price','classlabel']\n",
        "print(df)"
      ]
    },
    {
      "cell_type": "code",
      "source": [
        "size_mapping={'XL':3,'L':2,'M':1}\n",
        "df['size']=df['size'].map(size_mapping)\n",
        "print(df)"
      ],
      "metadata": {
        "colab": {
          "base_uri": "https://localhost:8080/"
        },
        "id": "_Ke-6UsrdQug",
        "outputId": "b7ff6430-052f-4abf-a202-de6e84d234ea"
      },
      "execution_count": 10,
      "outputs": [
        {
          "output_type": "stream",
          "name": "stdout",
          "text": [
            "  colors  size  price classlabel\n",
            "0  green     1   10.1     class1\n",
            "1    red     2   13.5     class2\n",
            "2   blue     3   15.3     class1\n"
          ]
        }
      ]
    },
    {
      "cell_type": "code",
      "source": [
        "from sklearn.preprocessing import LabelEncoder\n",
        "class_le=LabelEncoder()\n",
        "y=class_le.fit_transform(df['classlabel'].values)\n",
        "print(y)"
      ],
      "metadata": {
        "colab": {
          "base_uri": "https://localhost:8080/"
        },
        "id": "5PmZwTLEddMo",
        "outputId": "b838da18-e2b0-4e0a-90e5-4d670eb44e57"
      },
      "execution_count": 11,
      "outputs": [
        {
          "output_type": "stream",
          "name": "stdout",
          "text": [
            "[0 1 0]\n"
          ]
        }
      ]
    },
    {
      "cell_type": "code",
      "source": [
        "df['classlabel']=y\n",
        "print(df)"
      ],
      "metadata": {
        "colab": {
          "base_uri": "https://localhost:8080/"
        },
        "id": "Z81vM-ccdlRT",
        "outputId": "9c963a39-70c0-4a1d-a961-46027c16f607"
      },
      "execution_count": 12,
      "outputs": [
        {
          "output_type": "stream",
          "name": "stdout",
          "text": [
            "  colors  size  price  classlabel\n",
            "0  green     1   10.1           0\n",
            "1    red     2   13.5           1\n",
            "2   blue     3   15.3           0\n"
          ]
        }
      ]
    },
    {
      "cell_type": "code",
      "source": [
        "R_=class_le.inverse_transform(y)\n",
        "print(R_)"
      ],
      "metadata": {
        "colab": {
          "base_uri": "https://localhost:8080/"
        },
        "id": "uA960kmsdtRF",
        "outputId": "14b7ef09-f211-47bf-dbe3-734f41b1b5b9"
      },
      "execution_count": 13,
      "outputs": [
        {
          "output_type": "stream",
          "name": "stdout",
          "text": [
            "['class1' 'class2' 'class1']\n"
          ]
        }
      ]
    },
    {
      "cell_type": "code",
      "source": [
        "from sklearn.preprocessing import OneHotEncoder\n",
        "\n",
        "if 'color' in df.columns:\n",
        "    ohe = OneHotEncoder(sparse_output=False).set_output(transform='pandas')\n",
        "    F_ = ohe.fit_transform(df[['color']])\n",
        "    print('FF_ _')\n",
        "    print(F_)\n",
        "else:\n",
        "    print(\"The column 'color' does not exist in the DataFrame.\")\n"
      ],
      "metadata": {
        "colab": {
          "base_uri": "https://localhost:8080/"
        },
        "id": "8M1g6UZEd83V",
        "outputId": "c7f07426-7c92-442c-92ab-322f4fe5d77a"
      },
      "execution_count": 14,
      "outputs": [
        {
          "output_type": "stream",
          "name": "stdout",
          "text": [
            "The column 'color' does not exist in the DataFrame.\n"
          ]
        }
      ]
    },
    {
      "cell_type": "code",
      "source": [
        "from sklearn.preprocessing import OneHotEncoder\n",
        "import pandas as pd\n",
        "\n",
        "if 'color' in df.columns:\n",
        "    ohe = OneHotEncoder(sparse_output=False).set_output(transform='pandas')\n",
        "    F_ = ohe.fit_transform(df[['color']])\n",
        "    YY_ = pd.concat(objs=[df, F_], axis=1)\n",
        "    print(YY_)\n",
        "else:\n",
        "    print(\"The column 'color' does not exist in the DataFrame.\")\n"
      ],
      "metadata": {
        "colab": {
          "base_uri": "https://localhost:8080/"
        },
        "id": "YC3aO8WtfUMK",
        "outputId": "908c5bd9-4453-4b95-cffd-320503ac86b3"
      },
      "execution_count": 15,
      "outputs": [
        {
          "output_type": "stream",
          "name": "stdout",
          "text": [
            "The column 'color' does not exist in the DataFrame.\n"
          ]
        }
      ]
    },
    {
      "cell_type": "code",
      "source": [
        "from sklearn.preprocessing import OneHotEncoder\n",
        "import pandas as pd\n",
        "\n",
        "if 'color' in df.columns:\n",
        "    ohe = OneHotEncoder(sparse_output=False).set_output(transform='pandas')\n",
        "    F_ = ohe.fit_transform(df[['color']])\n",
        "\n",
        "    YY_ = pd.concat(objs=[df, F_], axis=1).drop(columns='color')\n",
        "    print(YY_)\n",
        "else:\n",
        "    print(\"The column 'color' does not exist in the DataFrame.\")\n"
      ],
      "metadata": {
        "colab": {
          "base_uri": "https://localhost:8080/"
        },
        "id": "KF7CRxCpgAAc",
        "outputId": "6e4cd095-33be-4095-eea1-6118701a9da8"
      },
      "execution_count": 16,
      "outputs": [
        {
          "output_type": "stream",
          "name": "stdout",
          "text": [
            "The column 'color' does not exist in the DataFrame.\n"
          ]
        }
      ]
    },
    {
      "cell_type": "code",
      "source": [],
      "metadata": {
        "id": "yL1XHs0kfvxM"
      },
      "execution_count": 16,
      "outputs": []
    }
  ]
}